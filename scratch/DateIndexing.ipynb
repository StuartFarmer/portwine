{
 "cells": [
  {
   "cell_type": "code",
   "execution_count": 1,
   "id": "096ece1c-8635-4fe3-bfe7-1291a4305cb9",
   "metadata": {},
   "outputs": [],
   "source": [
    "\n",
    "\"\"\"\n",
    "    EVERYTHING IS IN UTC. IT ASSUMES UTC FOR EVERYTHING. EVERYTHING COMING IN MUST BE CONVERTED TO UTC. EVERY CLOCK MUST BE SYNCHRONIZED TO UTC.\n",
    "    NYC TIME? NO. UTC.\n",
    "\n",
    "    Backtester default start_date and end_date = 2000-01-01, and today.\n",
    "\"\"\""
   ]
  },
  {
   "cell_type": "code",
   "execution_count": 2,
   "id": "29898b0d-7ce0-45b5-b0d9-fc889050dcbc",
   "metadata": {},
   "outputs": [],
   "source": [
    "cal = mcal.get_calendar('NYSE')"
   ]
  },
  {
   "cell_type": "code",
   "execution_count": 3,
   "id": "aac9dd51-c9af-461b-bfaf-74e4ce0ff08b",
   "metadata": {},
   "outputs": [
    {
     "data": {
      "text/plain": [
       "<pandas_market_calendars.calendars.nyse.NYSEExchangeCalendar at 0x117015e70>"
      ]
     },
     "execution_count": 3,
     "metadata": {},
     "output_type": "execute_result"
    }
   ],
   "source": [
    "cal"
   ]
  },
  {
   "cell_type": "code",
   "execution_count": 5,
   "id": "88bdcc46-a44b-4610-9169-bece23700c0f",
   "metadata": {},
   "outputs": [],
   "source": [
    "schedule = cal.schedule(start_date='2000-01-01', end_date='2025-01-01')"
   ]
  },
  {
   "cell_type": "code",
   "execution_count": 20,
   "id": "1c717284-b4fb-4beb-a1a0-87f0b2f2c149",
   "metadata": {},
   "outputs": [],
   "source": [
    "market_times = schedule.index.tz_localize(None)"
   ]
  },
  {
   "cell_type": "code",
   "execution_count": 8,
   "id": "07d4ae8a-1540-410d-9590-92ad62952f69",
   "metadata": {},
   "outputs": [
    {
     "data": {
      "text/plain": [
       "DatetimeIndex(['2000-01-03', '2000-01-04', '2000-01-05', '2000-01-06',\n",
       "               '2000-01-07', '2000-01-10', '2000-01-11', '2000-01-12',\n",
       "               '2000-01-13', '2000-01-14',\n",
       "               ...\n",
       "               '2024-12-17', '2024-12-18', '2024-12-19', '2024-12-20',\n",
       "               '2024-12-23', '2024-12-24', '2024-12-26', '2024-12-27',\n",
       "               '2024-12-30', '2024-12-31'],\n",
       "              dtype='datetime64[ns]', length=6289, freq=None)"
      ]
     },
     "execution_count": 8,
     "metadata": {},
     "output_type": "execute_result"
    }
   ],
   "source": [
    "market_times"
   ]
  },
  {
   "cell_type": "code",
   "execution_count": 11,
   "id": "b2ef9e7d-c511-4283-b8ed-07f92941f049",
   "metadata": {},
   "outputs": [
    {
     "data": {
      "text/plain": [
       "market_open    2000-01-03 14:30:00+00:00\n",
       "market_close   2000-01-03 21:00:00+00:00\n",
       "Name: 2000-01-03 00:00:00, dtype: datetime64[ns, UTC]"
      ]
     },
     "execution_count": 11,
     "metadata": {},
     "output_type": "execute_result"
    }
   ],
   "source": [
    "schedule.iloc[0]"
   ]
  },
  {
   "cell_type": "code",
   "execution_count": 12,
   "id": "e3c96e9f-8ab5-4d50-877b-09e71fcafc66",
   "metadata": {},
   "outputs": [],
   "source": [
    "class DailyMarketCalendar:\n",
    "    pass"
   ]
  },
  {
   "cell_type": "code",
   "execution_count": 23,
   "id": "686d7a1a-1076-4874-b2c8-7445ee802907",
   "metadata": {},
   "outputs": [
    {
     "data": {
      "text/plain": [
       "array(['2000-01-03T00:00:00.000000000', '2000-01-04T00:00:00.000000000',\n",
       "       '2000-01-05T00:00:00.000000000', ...,\n",
       "       '2024-12-27T00:00:00.000000000', '2024-12-30T00:00:00.000000000',\n",
       "       '2024-12-31T00:00:00.000000000'],\n",
       "      shape=(6289,), dtype='datetime64[ns]')"
      ]
     },
     "execution_count": 23,
     "metadata": {},
     "output_type": "execute_result"
    }
   ],
   "source": [
    "schedule['market_open'].index.tz_localize(\"UTC\").tz_convert(None).to_numpy()"
   ]
  },
  {
   "cell_type": "code",
   "execution_count": 38,
   "id": "8a1abe5f-d85b-4807-8091-f30de2ebc3cb",
   "metadata": {},
   "outputs": [],
   "source": [
    "import datetime\n",
    "import pandas as pd\n",
    "import pandas_market_calendars as mcal\n",
    "\n",
    "def get_datetime_index(calendar_name, start_date='2000-01-01', end_date=None):\n",
    "    # Fill the end date with today's date if needed\n",
    "    if end_date is None:\n",
    "        end_date = datetime.datetime.now().strftime('%Y-%m-%d')\n",
    "\n",
    "    cal = mcal.get_calendar(calendar_name)\n",
    "\n",
    "    schedule = cal.schedule(start_date=start_date, end_date=end_date)\n",
    "    \n",
    "    dt_index = schedule['market_open'].index\n",
    "\n",
    "    dt_localized = dt_index.tz_localize(\"UTC\")\n",
    "    dt_converted = dt_localized.tz_convert(None)\n",
    "\n",
    "    return dt_converted.to_numpy()"
   ]
  },
  {
   "cell_type": "code",
   "execution_count": 65,
   "id": "540a0feb-87e9-413f-a2e7-909adefb8191",
   "metadata": {},
   "outputs": [],
   "source": [
    "class DailyMarketCalendar:\n",
    "    def __init__(self, calendar_name):\n",
    "        self.calendar = MarketCalendar.factory(calendar_name)\n",
    "\n",
    "    def get_datetime_index(self, start_date='2000-01-01', end_date=None):\n",
    "        # Fill the end date with today's date if needed\n",
    "        if end_date is None:\n",
    "            end_date = datetime.datetime.now().strftime('%Y-%m-%d')\n",
    "    \n",
    "        schedule = self.calendar.schedule(start_date=start_date, end_date=end_date)\n",
    "        \n",
    "        dt_index = schedule['market_open'].index\n",
    "    \n",
    "        dt_localized = dt_index.tz_localize(\"UTC\")\n",
    "        dt_converted = dt_localized.tz_convert(None)\n",
    "    \n",
    "        return dt_converted.to_numpy()"
   ]
  },
  {
   "cell_type": "code",
   "execution_count": 66,
   "id": "6f084ded-01a4-4566-a20d-a4b7d23798ac",
   "metadata": {},
   "outputs": [],
   "source": [
    "cal = mcal.get_calendar('NYSE')"
   ]
  },
  {
   "cell_type": "code",
   "execution_count": 67,
   "id": "41d26926-c903-4010-8454-c07528ce5693",
   "metadata": {},
   "outputs": [],
   "source": [
    "d = DailyMarketCalendar('NYSE')"
   ]
  },
  {
   "cell_type": "code",
   "execution_count": 68,
   "id": "26ea8838-7301-41ea-bfa8-853877406545",
   "metadata": {},
   "outputs": [
    {
     "data": {
      "text/plain": [
       "array(['2000-01-03T00:00:00.000000000', '2000-01-04T00:00:00.000000000',\n",
       "       '2000-01-05T00:00:00.000000000', ...,\n",
       "       '2025-08-04T00:00:00.000000000', '2025-08-05T00:00:00.000000000',\n",
       "       '2025-08-06T00:00:00.000000000'],\n",
       "      shape=(6437,), dtype='datetime64[ns]')"
      ]
     },
     "execution_count": 68,
     "metadata": {},
     "output_type": "execute_result"
    }
   ],
   "source": [
    "d.get_datetime_index()"
   ]
  },
  {
   "cell_type": "code",
   "execution_count": 48,
   "id": "fb0cb9c2-17c8-42a1-a8ad-ad4844c93a17",
   "metadata": {},
   "outputs": [],
   "source": [
    "from pandas_market_calendars import MarketCalendar"
   ]
  },
  {
   "cell_type": "code",
   "execution_count": 69,
   "id": "93234249-7d58-4551-8020-25cf4d14fb8b",
   "metadata": {},
   "outputs": [],
   "source": [
    "from portwine.loaders import EODHDMarketDataLoader"
   ]
  },
  {
   "cell_type": "code",
   "execution_count": 70,
   "id": "2a99ce5b-f326-41e3-9f38-1529a74f0090",
   "metadata": {},
   "outputs": [],
   "source": [
    "loader = EODHDMarketDataLoader('/Users/stuart/Developer/Data/EODHD/us_sorted/US/')"
   ]
  },
  {
   "cell_type": "code",
   "execution_count": 71,
   "id": "06978903-3d1a-434c-bc6a-8ebfb6796e2b",
   "metadata": {},
   "outputs": [
    {
     "data": {
      "text/plain": [
       "{'SPY':                   open        high         low     close    volume\n",
       " date                                                              \n",
       " 2000-01-03   94.501112   94.501112   91.712293   92.7083   8164300\n",
       " 2000-01-04   91.493270   91.831880   89.013164   89.0829   8089800\n",
       " 2000-01-05   89.202360   90.218318   87.489228   89.2422  12177900\n",
       " 2000-01-06   89.003209   90.198417   87.808000   87.8080   6227200\n",
       " 2000-01-07   89.441397   92.907500   89.282036   92.9075   8066500\n",
       " ...                ...         ...         ...       ...       ...\n",
       " 2024-12-24  596.060000  601.340000  595.470000  601.3000  33160100\n",
       " 2024-12-26  599.500000  602.480000  598.080000  601.3400  41219100\n",
       " 2024-12-27  597.540000  597.780000  590.760000  595.0100  64969300\n",
       " 2024-12-30  587.890000  591.740000  584.410000  588.2200  56578800\n",
       " 2024-12-31  589.910000  590.640000  584.420000  586.0800  57052700\n",
       " \n",
       " [6289 rows x 5 columns],\n",
       " 'AAPL':                   open        high         low     close     volume\n",
       " date                                                               \n",
       " 2000-01-03    0.789859    0.847302    0.765819    0.8430  535796800\n",
       " 2000-01-04    0.815273    0.833156    0.762131    0.7720  512377600\n",
       " 2000-01-05    0.781360    0.832731    0.775708    0.7833  778321600\n",
       " 2000-01-06    0.799265    0.805929    0.715500    0.7155  767972800\n",
       " 2000-01-07    0.726793    0.760703    0.719286    0.7494  460734400\n",
       " ...                ...         ...         ...       ...        ...\n",
       " 2024-12-24  255.490000  258.210000  255.290000  258.2000   23234700\n",
       " 2024-12-26  258.190000  260.100000  257.630000  259.0200   27237100\n",
       " 2024-12-27  257.830000  258.700000  253.060000  255.5900   42355300\n",
       " 2024-12-30  252.230000  253.500000  250.750000  252.2000   35557500\n",
       " 2024-12-31  252.440000  253.280000  249.430000  250.4200   39480700\n",
       " \n",
       " [6289 rows x 5 columns],\n",
       " 'QQQ':                   open        high         low     close    volume\n",
       " date                                                              \n",
       " 2000-01-03   81.762827   81.762827   76.503230   80.5409  36358000\n",
       " 2000-01-04   78.203314   79.478368   74.750042   74.8098  33782800\n",
       " 2000-01-05   74.378173   76.529827   71.615555   73.2625  42498398\n",
       " 2000-01-06   73.846870   74.803160   68.002873   68.6404  37009398\n",
       " 2000-01-07   70.499874   75.228200   70.127983   75.2282  28129400\n",
       " ...                ...         ...         ...       ...       ...\n",
       " 2024-12-24  524.830000  530.050000  524.190000  529.9600  17558221\n",
       " 2024-12-26  528.320000  531.240000  526.310000  529.6000  19090500\n",
       " 2024-12-27  526.010000  526.450000  517.860000  522.5600  33839600\n",
       " 2024-12-30  515.510000  519.360000  511.830000  515.6100  34584000\n",
       " 2024-12-31  516.900000  517.660000  510.260000  511.2300  29117000\n",
       " \n",
       " [6289 rows x 5 columns]}"
      ]
     },
     "execution_count": 71,
     "metadata": {},
     "output_type": "execute_result"
    }
   ],
   "source": [
    "loader.fetch_data(['SPY', 'AAPL', 'QQQ'])"
   ]
  },
  {
   "cell_type": "code",
   "execution_count": null,
   "id": "e5797275-454c-402d-b6e5-80a7d72d2abe",
   "metadata": {},
   "outputs": [],
   "source": []
  }
 ],
 "metadata": {
  "kernelspec": {
   "display_name": "Python 3 (ipykernel)",
   "language": "python",
   "name": "python3"
  },
  "language_info": {
   "codemirror_mode": {
    "name": "ipython",
    "version": 3
   },
   "file_extension": ".py",
   "mimetype": "text/x-python",
   "name": "python",
   "nbconvert_exporter": "python",
   "pygments_lexer": "ipython3",
   "version": "3.10.17"
  }
 },
 "nbformat": 4,
 "nbformat_minor": 5
}
